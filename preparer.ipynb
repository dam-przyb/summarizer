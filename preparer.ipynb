{
 "cells": [
  {
   "cell_type": "code",
   "execution_count": 8,
   "metadata": {},
   "outputs": [
    {
     "name": "stdout",
     "output_type": "stream",
     "text": [
      "Selected file: C:/Users/damia/Desktop/baza bbi/70-779.pdf\n",
      "Author: Microsoft\n",
      "Book Name: 70-779\n"
     ]
    }
   ],
   "source": [
    "import sys\n",
    "from PyQt6.QtWidgets import QApplication, QFileDialog, QInputDialog\n",
    "\n",
    "def get_file_and_book_info_qt():\n",
    "    \"\"\"Opens a file dialog, asks for author and book name using PyQt6.\"\"\"\n",
    "    app = QApplication(sys.argv)  # Create a QApplication instance\n",
    "\n",
    "    file_path, _ = QFileDialog.getOpenFileName()\n",
    "\n",
    "    if not file_path:\n",
    "        return None, None, None\n",
    "\n",
    "    author, ok_author = QInputDialog.getText(None, \"Input\", \"Enter Author Name:\")\n",
    "    if not ok_author:\n",
    "        return file_path, None, None #Handle user cancellation of author input\n",
    "\n",
    "    book_name, ok_book = QInputDialog.getText(None, \"Input\", \"Enter Book Name:\")\n",
    "    if not ok_book:\n",
    "        return file_path, author, None #Handle user cancellation of book input.\n",
    "\n",
    "    return file_path, author, book_name\n",
    "\n",
    "if __name__ == \"__main__\":\n",
    "    file_path, author, book_name = get_file_and_book_info_qt()\n",
    "\n",
    "    if file_path:\n",
    "        print(\"Selected file:\", file_path)\n",
    "        print(\"Author:\", author)\n",
    "        print(\"Book Name:\", book_name)\n",
    "    else:\n",
    "        print(\"No file selected.\")"
   ]
  },
  {
   "cell_type": "code",
   "execution_count": 9,
   "metadata": {},
   "outputs": [
    {
     "name": "stdout",
     "output_type": "stream",
     "text": [
      "Successfully extracted text from 'C:/Users/damia/Desktop/baza bbi/70-779.pdf' to 'C:\\Users\\damia\\OneDrive\\Pulpit\\_kody\\summarizer\\summarizer_app\\extracts\\Microsoft\\70-779'\n"
     ]
    }
   ],
   "source": [
    "import pymupdf\n",
    "import os\n",
    "\n",
    "def extract_pdf_pages_to_txt(pdf_path, author_name, book_name, output_folder):\n",
    "    \"\"\"\n",
    "    Extracts text from each page of a PDF and saves it as a distinct .txt file.\n",
    "\n",
    "    Args:\n",
    "        pdf_path (str): Path to the PDF file.\n",
    "        author_name (str): Name of the author.\n",
    "        book_name (str): Name of the book.\n",
    "        output_folder (str): Path to the output folder.\n",
    "    \"\"\"\n",
    "\n",
    "    try:\n",
    "        doc = pymupdf.open(pdf_path)\n",
    "        output_book_folder = os.path.join(output_folder, author_name, book_name)\n",
    "\n",
    "        # Create the output directory if it doesn't exist\n",
    "        os.makedirs(output_book_folder, exist_ok=True)\n",
    "\n",
    "        for page_num, page in enumerate(doc):\n",
    "            text = page.get_text()\n",
    "            output_file_path = os.path.join(output_book_folder, f\"page_{page_num + 1}.txt\")\n",
    "\n",
    "            with open(output_file_path, \"w\", encoding=\"utf-8\") as f:\n",
    "                f.write(text)\n",
    "\n",
    "        doc.close()\n",
    "        print(f\"Successfully extracted text from '{pdf_path}' to '{output_book_folder}'\")\n",
    "\n",
    "    except Exception as e:\n",
    "        print(f\"Error processing '{pdf_path}': {e}\")\n",
    "\n",
    "# Example usage:\n",
    "pdf_file_path = file_path  # Replace with your PDF file path\n",
    "author = author  # Replace with the author's name\n",
    "book = book_name  # Replace with the book's title\n",
    "output_dir = r\"C:\\Users\\damia\\OneDrive\\Pulpit\\_kody\\summarizer\\summarizer_app\\extracts\" #replace with your desired output directory.\n",
    "\n",
    "extract_pdf_pages_to_txt(pdf_file_path, author, book, output_dir)"
   ]
  }
 ],
 "metadata": {
  "kernelspec": {
   "display_name": "venv",
   "language": "python",
   "name": "python3"
  },
  "language_info": {
   "codemirror_mode": {
    "name": "ipython",
    "version": 3
   },
   "file_extension": ".py",
   "mimetype": "text/x-python",
   "name": "python",
   "nbconvert_exporter": "python",
   "pygments_lexer": "ipython3",
   "version": "3.13.0"
  }
 },
 "nbformat": 4,
 "nbformat_minor": 2
}
